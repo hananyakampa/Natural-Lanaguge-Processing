{
 "cells": [
  {
   "cell_type": "code",
   "execution_count": 5,
   "id": "7b94dd3f",
   "metadata": {},
   "outputs": [],
   "source": [
    "import nltk    \n",
    "import ipywidgets as widgets\n",
    "from IPython.display import display"
   ]
  },
  {
   "cell_type": "code",
   "execution_count": 6,
   "id": "f5011f84",
   "metadata": {},
   "outputs": [],
   "source": [
    "import re                                  # library for regular expression operations\n",
    "import string                              # for string operations\n",
    "\n",
    "from nltk.corpus import stopwords          # module for stop words that come with NLTK\n",
    "from nltk.stem import PorterStemmer        # module for stemming\n",
    "from nltk.tokenize import TweetTokenizer   # module for tokenizing strings"
   ]
  },
  {
   "cell_type": "code",
   "execution_count": 7,
   "id": "1bfbeb75",
   "metadata": {},
   "outputs": [],
   "source": [
    "input_ = 'My beautiful sunflowers on a sunny Friday morning off :) #sunflowers #favourites #happy #Friday off… https://t.co/3tfYom0N1i'"
   ]
  },
  {
   "cell_type": "code",
   "execution_count": 8,
   "id": "e7348d6f",
   "metadata": {},
   "outputs": [],
   "source": [
    "#tokenizing the text\n",
    "    \n",
    "#initiate the tokenizer object\n",
    "\n",
    "\n",
    "def preprocess(text):\n",
    "    stopwords_english = stopwords.words('english') \n",
    "    punc = string.punctuation\n",
    "    stemmer = PorterStemmer() \n",
    "    cleaned_text =[]\n",
    "    text_stem = [] \n",
    "    \n",
    "    #print('\\033[1m' + \"\\nAfter Preprocessong the text : \\n\\n\",text)\n",
    "    \n",
    "    print('\\033[94m' + '\\033[1m' + \" ORIGINAL TEXT BEFORE PREPROCESSING : \\n\\n\",text)\n",
    "\n",
    "    text = re.sub(r'^RT[\\s]+', '',text)\n",
    "        \n",
    "    text = re.sub(r'https?:\\/\\/.*[\\r\\n]*', '', text)\n",
    "    \n",
    "    text = re.sub(r'#', '', text)\n",
    "    \n",
    "    tokenizer = TweetTokenizer(preserve_case=False, strip_handles=True,reduce_len=True)\n",
    "    \n",
    "    text = tokenizer.tokenize(text)\n",
    "    \n",
    "    \n",
    "    for word in text:\n",
    "        \n",
    "        if (word not in stopwords_english and word not in punc):\n",
    "            \n",
    "            cleaned_text.append(word)\n",
    "    \n",
    " \n",
    "\n",
    "    for words in cleaned_text:\n",
    "        \n",
    "        stem_word = stemmer.stem(words)  # stemming word\n",
    "        \n",
    "        text_stem.append(stem_word)  \n",
    "    \n",
    "   \n",
    "        \n",
    "    return text_stem\n",
    "\n"
   ]
  },
  {
   "cell_type": "code",
   "execution_count": 9,
   "id": "d1095c38",
   "metadata": {},
   "outputs": [
    {
     "data": {
      "application/vnd.jupyter.widget-view+json": {
       "model_id": "0d2e111645d742bcbb7ef034ab047d7b",
       "version_major": 2,
       "version_minor": 0
      },
      "text/plain": [
       "Button(description='PREPROCESSING', style=ButtonStyle())"
      ]
     },
     "metadata": {},
     "output_type": "display_data"
    },
    {
     "data": {
      "application/vnd.jupyter.widget-view+json": {
       "model_id": "2301bef99422432d87bb88a252ff86e6",
       "version_major": 2,
       "version_minor": 0
      },
      "text/plain": [
       "Output()"
      ]
     },
     "metadata": {},
     "output_type": "display_data"
    },
    {
     "name": "stdout",
     "output_type": "stream",
     "text": [
      "\u001b[94m\u001b[1m ORIGINAL TEXT BEFORE PREPROCESSING : \n",
      "\n",
      " My beautiful sunflowers on a sunny Friday morning off :) #sunflowers #favourites #happy #Friday off… https://t.co/3tfYom0N1i\n",
      "\u001b[92m\u001b[1m\n",
      " AFTER PREPROCESSING THE TEXT : \n",
      "\n",
      " ['beauti', 'sunflow', 'sunni', 'friday', 'morn', ':)', 'sunflow', 'favourit', 'happi', 'friday', '…']\n"
     ]
    }
   ],
   "source": [
    "button_preprocess = widgets.Button(description=\"PREPROCESSING\")\n",
    "\n",
    "output = widgets.Output()\n",
    "\n",
    "display(button_preprocess,output)\n",
    "\n",
    "def preprocess_text(b):\n",
    "    text = preprocess(input_)\n",
    "    print('\\033[92m' + '\\033[1m' + \"\\n AFTER PREPROCESSING THE TEXT : \\n\\n\",text)\n",
    "    \n",
    "output_ = button_preprocess.on_click(preprocess_text) \n",
    "    "
   ]
  },
  {
   "cell_type": "code",
   "execution_count": null,
   "id": "d7c5db51",
   "metadata": {},
   "outputs": [],
   "source": []
  }
 ],
 "metadata": {
  "kernelspec": {
   "display_name": "Python 3 (ipykernel)",
   "language": "python",
   "name": "python3"
  },
  "language_info": {
   "codemirror_mode": {
    "name": "ipython",
    "version": 3
   },
   "file_extension": ".py",
   "mimetype": "text/x-python",
   "name": "python",
   "nbconvert_exporter": "python",
   "pygments_lexer": "ipython3",
   "version": "3.9.7"
  }
 },
 "nbformat": 4,
 "nbformat_minor": 5
}
